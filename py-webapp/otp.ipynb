{
 "cells": [
  {
   "cell_type": "code",
   "execution_count": 5,
   "id": "ed46f16a-dce9-4730-a4d6-90d8525c1133",
   "metadata": {
    "tags": []
   },
   "outputs": [],
   "source": [
    "import os\n",
    "import time\n",
    "from cryptography.hazmat.primitives.twofactor.totp import TOTP\n",
    "from cryptography.hazmat.primitives.hashes import SHA256"
   ]
  },
  {
   "cell_type": "code",
   "execution_count": 166,
   "id": "b5c5a45f-efab-4175-a2c4-922c411aa4c0",
   "metadata": {
    "tags": []
   },
   "outputs": [],
   "source": [
    "key = bytes.fromhex(\"581f22628ce7b73da43abfceb41c94a5\")"
   ]
  },
  {
   "cell_type": "code",
   "execution_count": 167,
   "id": "be44df43-cca2-4108-a20e-4ee6d1729ab1",
   "metadata": {
    "tags": []
   },
   "outputs": [
    {
     "name": "stdout",
     "output_type": "stream",
     "text": [
      "1700691877 b'717790'\n"
     ]
    }
   ],
   "source": [
    "totp = TOTP(key, 6, SHA256(), 30)\n",
    "time_value = int(time.time())\n",
    "totp_value = totp.generate(time_value)\n",
    "totp.verify(totp_value, time_value)\n",
    "print(time_value, totp_value)"
   ]
  },
  {
   "cell_type": "code",
   "execution_count": null,
   "id": "1b54bb9a-3c86-44f6-bc6c-ad5d0659c620",
   "metadata": {},
   "outputs": [],
   "source": []
  }
 ],
 "metadata": {
  "kernelspec": {
   "display_name": "Python 3 (ipykernel)",
   "language": "python",
   "name": "python3"
  },
  "language_info": {
   "codemirror_mode": {
    "name": "ipython",
    "version": 3
   },
   "file_extension": ".py",
   "mimetype": "text/x-python",
   "name": "python",
   "nbconvert_exporter": "python",
   "pygments_lexer": "ipython3",
   "version": "3.10.12"
  }
 },
 "nbformat": 4,
 "nbformat_minor": 5
}
